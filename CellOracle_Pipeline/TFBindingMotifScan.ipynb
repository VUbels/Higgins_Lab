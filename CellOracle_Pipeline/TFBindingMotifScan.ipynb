{
 "cells": [
  {
   "cell_type": "code",
   "execution_count": 5,
   "id": "a52eb252-d5c3-4ceb-a241-ffe28bf8711b",
   "metadata": {},
   "outputs": [],
   "source": [
    "import pandas as pd\n",
    "import numpy as np\n",
    "import matplotlib.pyplot as plt\n",
    "import genomepy\n",
    "\n",
    "import seaborn as sns\n",
    "\n",
    "import os, sys, shutil, importlib, glob\n",
    "from tqdm.notebook import tqdm"
   ]
  },
  {
   "cell_type": "code",
   "execution_count": 6,
   "id": "c806a600-8c8a-48cc-b251-0d39a676b4d2",
   "metadata": {},
   "outputs": [
    {
     "data": {
      "text/plain": [
       "'0.18.0'"
      ]
     },
     "execution_count": 6,
     "metadata": {},
     "output_type": "execute_result"
    }
   ],
   "source": [
    "import celloracle as co\n",
    "from celloracle import motif_analysis as ma\n",
    "from celloracle.utility import save_as_pickled_object\n",
    "co.__version__\n"
   ]
  },
  {
   "cell_type": "code",
   "execution_count": 7,
   "id": "ab0bb54b-5ef0-4ce1-b33d-c568eba99431",
   "metadata": {},
   "outputs": [],
   "source": [
    "%config InlineBackend.figure_format = 'retina'\n",
    "%matplotlib inline\n",
    "\n",
    "plt.rcParams['figure.figsize'] = (15,7)\n",
    "plt.rcParams[\"savefig.dpi\"] = 600"
   ]
  },
  {
   "cell_type": "code",
   "execution_count": 8,
   "id": "5bc07bbe-f08a-4ce1-88ed-f0509313b4a5",
   "metadata": {},
   "outputs": [
    {
     "name": "stderr",
     "output_type": "stream",
     "text": [
      "\u001b[32m13:29:35\u001b[0m \u001b[1m|\u001b[0m \u001b[34mINFO\u001b[0m \u001b[1m|\u001b[0m Downloading assembly summaries from UCSC\n",
      "\u001b[32m13:29:40\u001b[0m \u001b[1m|\u001b[0m \u001b[34mINFO\u001b[0m \u001b[1m|\u001b[0m Downloading genome from UCSC. Target URL: https://hgdownload.soe.ucsc.edu/goldenPath/hg38/bigZips/hg38.fa.gz...\n"
     ]
    },
    {
     "data": {
      "application/vnd.jupyter.widget-view+json": {
       "model_id": "ffa39755ed5b470591c9f43da1746c8b",
       "version_major": 2,
       "version_minor": 0
      },
      "text/plain": [
       "Download:   0%|          | 0.00/938M [00:00<?, ?B/s]"
      ]
     },
     "metadata": {},
     "output_type": "display_data"
    },
    {
     "name": "stderr",
     "output_type": "stream",
     "text": [
      "\u001b[32m13:31:10\u001b[0m \u001b[1m|\u001b[0m \u001b[34mINFO\u001b[0m \u001b[1m|\u001b[0m Genome download successful, starting post processing...\n",
      "\u001b[32m13:31:27\u001b[0m \u001b[1m|\u001b[0m \u001b[34mINFO\u001b[0m \u001b[1m|\u001b[0m name: hg38\n",
      "\u001b[32m13:31:27\u001b[0m \u001b[1m|\u001b[0m \u001b[34mINFO\u001b[0m \u001b[1m|\u001b[0m local name: hg38\n",
      "\u001b[32m13:31:27\u001b[0m \u001b[1m|\u001b[0m \u001b[34mINFO\u001b[0m \u001b[1m|\u001b[0m fasta: /home/uvictor/.local/share/genomes/hg38/hg38.fa\n"
     ]
    },
    {
     "data": {
      "application/vnd.jupyter.widget-view+json": {
       "model_id": "42f123d5974e4c278be831d0b3491bcb",
       "version_major": 2,
       "version_minor": 0
      },
      "text/plain": [
       "Filtering Fasta: 0.00 lines [00:00, ? lines/s]"
      ]
     },
     "metadata": {},
     "output_type": "display_data"
    },
    {
     "data": {
      "text/plain": [
       "Fasta(\"/home/uvictor/.local/share/genomes/hg38/hg38.fa\")"
      ]
     },
     "execution_count": 8,
     "metadata": {},
     "output_type": "execute_result"
    }
   ],
   "source": [
    "genomepy.install_genome(name=\"hg38\", provider=\"UCSC\")"
   ]
  },
  {
   "cell_type": "code",
   "execution_count": 9,
   "id": "3aff3481-3fb4-4fdf-94f5-a9f5f5f48ea0",
   "metadata": {},
   "outputs": [
    {
     "name": "stdout",
     "output_type": "stream",
     "text": [
      "hg38 installation:  True\n"
     ]
    }
   ],
   "source": [
    "ref_genome = \"hg38\"\n",
    "\n",
    "genome_installation = ma.is_genome_installed(ref_genome=ref_genome,\n",
    "                                             genomes_dir=None)\n",
    "\n",
    "print(ref_genome, \"installation: \", genome_installation)"
   ]
  },
  {
   "cell_type": "code",
   "execution_count": 10,
   "id": "ea3c8420-e49c-4039-9bb5-1fdf6d4a6848",
   "metadata": {},
   "outputs": [
    {
     "data": {
      "text/html": [
       "<div>\n",
       "<style scoped>\n",
       "    .dataframe tbody tr th:only-of-type {\n",
       "        vertical-align: middle;\n",
       "    }\n",
       "\n",
       "    .dataframe tbody tr th {\n",
       "        vertical-align: top;\n",
       "    }\n",
       "\n",
       "    .dataframe thead th {\n",
       "        text-align: right;\n",
       "    }\n",
       "</style>\n",
       "<table border=\"1\" class=\"dataframe\">\n",
       "  <thead>\n",
       "    <tr style=\"text-align: right;\">\n",
       "      <th></th>\n",
       "      <th>peak_id</th>\n",
       "      <th>gene_short_name</th>\n",
       "    </tr>\n",
       "  </thead>\n",
       "  <tbody>\n",
       "    <tr>\n",
       "      <th>0</th>\n",
       "      <td>chr10_100009705_100010205</td>\n",
       "      <td>DNMBP</td>\n",
       "    </tr>\n",
       "    <tr>\n",
       "      <th>1</th>\n",
       "      <td>chr10_100010297_100010797</td>\n",
       "      <td>DNMBP</td>\n",
       "    </tr>\n",
       "    <tr>\n",
       "      <th>2</th>\n",
       "      <td>chr10_100185807_100186307</td>\n",
       "      <td>ERLIN1</td>\n",
       "    </tr>\n",
       "    <tr>\n",
       "      <th>3</th>\n",
       "      <td>chr10_100186405_100186905</td>\n",
       "      <td>ERLIN1</td>\n",
       "    </tr>\n",
       "    <tr>\n",
       "      <th>4</th>\n",
       "      <td>chr10_100229354_100229854</td>\n",
       "      <td>CHUK</td>\n",
       "    </tr>\n",
       "  </tbody>\n",
       "</table>\n",
       "</div>"
      ],
      "text/plain": [
       "                     peak_id gene_short_name\n",
       "0  chr10_100009705_100010205           DNMBP\n",
       "1  chr10_100010297_100010797           DNMBP\n",
       "2  chr10_100185807_100186307          ERLIN1\n",
       "3  chr10_100186405_100186905          ERLIN1\n",
       "4  chr10_100229354_100229854            CHUK"
      ]
     },
     "execution_count": 10,
     "metadata": {},
     "output_type": "execute_result"
    }
   ],
   "source": [
    "peaks = pd.read_csv(\"/mnt/c/Users/UVictor/Documents/scATAC_Output/processed_peak_file.csv\", index_col=0)\n",
    "peaks.head()"
   ]
  },
  {
   "cell_type": "code",
   "execution_count": 11,
   "id": "2b4726b5-b927-40cc-be6a-5661bab3b5ec",
   "metadata": {},
   "outputs": [
    {
     "name": "stdout",
     "output_type": "stream",
     "text": [
      "Peaks before filtering:  37077\n",
      "Peaks with invalid chr_name:  0\n",
      "Peaks with invalid length:  0\n",
      "Peaks after filtering:  37077\n"
     ]
    }
   ],
   "source": [
    "peaks = ma.check_peak_format(peaks, ref_genome, genomes_dir=None)"
   ]
  },
  {
   "cell_type": "code",
   "execution_count": 12,
   "id": "018ec67d-1286-4718-9b0a-3a502e1aeefd",
   "metadata": {},
   "outputs": [],
   "source": [
    "tfi = ma.TFinfo(peak_data_frame=peaks,\n",
    "                ref_genome=ref_genome,\n",
    "                genomes_dir=None)"
   ]
  },
  {
   "cell_type": "code",
   "execution_count": 13,
   "id": "dc52172d-f9de-4604-becb-fc65f7a68d8c",
   "metadata": {},
   "outputs": [
    {
     "name": "stdout",
     "output_type": "stream",
     "text": [
      "No motif data entered. Loading default motifs for your species ...\n",
      " Default motif for vertebrate: gimme.vertebrate.v5.0. \n",
      " For more information, please see https://gimmemotifs.readthedocs.io/en/master/overview.html \n",
      "\n",
      "Initiating scanner... \n",
      "\n"
     ]
    },
    {
     "name": "stderr",
     "output_type": "stream",
     "text": [
      "2024-10-21 14:15:19,177 - DEBUG - using background: genome hg38 with size 200\n"
     ]
    },
    {
     "name": "stdout",
     "output_type": "stream",
     "text": [
      "Calculating FPR-based threshold. This step may take substantial time when you load a new ref-genome. It will be done quicker on the second time. \n",
      "\n"
     ]
    },
    {
     "name": "stderr",
     "output_type": "stream",
     "text": [
      "2024-10-21 14:15:25,820 - DEBUG - determining FPR-based threshold\n"
     ]
    },
    {
     "name": "stdout",
     "output_type": "stream",
     "text": [
      "Motif scan started .. It may take long time.\n",
      "\n"
     ]
    },
    {
     "data": {
      "application/vnd.jupyter.widget-view+json": {
       "model_id": "5758d141d5a547b890fef02ea5d1cd81",
       "version_major": 2,
       "version_minor": 0
      },
      "text/plain": [
       "Scanning:   0%|          | 0/35174 [00:00<?, ? sequences/s]"
      ]
     },
     "metadata": {},
     "output_type": "display_data"
    }
   ],
   "source": [
    "tfi.scan(fpr=0.02,\n",
    "         motifs=None,  # If you enter None, default motifs will be loaded.\n",
    "         verbose=True)\n",
    "\n",
    "# Save tfinfo object\n",
    "tfi.to_hdf5(file_path=\"/mnt/c/Users/UVictor/Documents/scATAC_Output/TFIScanned.celloracle.tfinfo\")"
   ]
  },
  {
   "cell_type": "code",
   "execution_count": 14,
   "id": "a2754617-e3c6-470d-a6e3-3208243af3fd",
   "metadata": {},
   "outputs": [
    {
     "data": {
      "text/html": [
       "<div>\n",
       "<style scoped>\n",
       "    .dataframe tbody tr th:only-of-type {\n",
       "        vertical-align: middle;\n",
       "    }\n",
       "\n",
       "    .dataframe tbody tr th {\n",
       "        vertical-align: top;\n",
       "    }\n",
       "\n",
       "    .dataframe thead th {\n",
       "        text-align: right;\n",
       "    }\n",
       "</style>\n",
       "<table border=\"1\" class=\"dataframe\">\n",
       "  <thead>\n",
       "    <tr style=\"text-align: right;\">\n",
       "      <th></th>\n",
       "      <th>seqname</th>\n",
       "      <th>motif_id</th>\n",
       "      <th>factors_direct</th>\n",
       "      <th>factors_indirect</th>\n",
       "      <th>score</th>\n",
       "      <th>pos</th>\n",
       "      <th>strand</th>\n",
       "    </tr>\n",
       "  </thead>\n",
       "  <tbody>\n",
       "    <tr>\n",
       "      <th>0</th>\n",
       "      <td>chr10_100009705_100010205</td>\n",
       "      <td>GM.5.0.Mixed.0001</td>\n",
       "      <td></td>\n",
       "      <td>SRF, EGR1</td>\n",
       "      <td>8.578792</td>\n",
       "      <td>91</td>\n",
       "      <td>-1</td>\n",
       "    </tr>\n",
       "    <tr>\n",
       "      <th>1</th>\n",
       "      <td>chr10_100009705_100010205</td>\n",
       "      <td>GM.5.0.Mixed.0001</td>\n",
       "      <td></td>\n",
       "      <td>SRF, EGR1</td>\n",
       "      <td>8.319869</td>\n",
       "      <td>350</td>\n",
       "      <td>-1</td>\n",
       "    </tr>\n",
       "    <tr>\n",
       "      <th>2</th>\n",
       "      <td>chr10_100009705_100010205</td>\n",
       "      <td>GM.5.0.Mixed.0001</td>\n",
       "      <td></td>\n",
       "      <td>SRF, EGR1</td>\n",
       "      <td>7.919846</td>\n",
       "      <td>458</td>\n",
       "      <td>-1</td>\n",
       "    </tr>\n",
       "    <tr>\n",
       "      <th>3</th>\n",
       "      <td>chr10_100009705_100010205</td>\n",
       "      <td>GM.5.0.Mixed.0001</td>\n",
       "      <td></td>\n",
       "      <td>SRF, EGR1</td>\n",
       "      <td>7.680395</td>\n",
       "      <td>459</td>\n",
       "      <td>-1</td>\n",
       "    </tr>\n",
       "    <tr>\n",
       "      <th>4</th>\n",
       "      <td>chr10_100009705_100010205</td>\n",
       "      <td>GM.5.0.Mixed.0001</td>\n",
       "      <td></td>\n",
       "      <td>SRF, EGR1</td>\n",
       "      <td>7.575280</td>\n",
       "      <td>87</td>\n",
       "      <td>-1</td>\n",
       "    </tr>\n",
       "  </tbody>\n",
       "</table>\n",
       "</div>"
      ],
      "text/plain": [
       "                     seqname           motif_id factors_direct  \\\n",
       "0  chr10_100009705_100010205  GM.5.0.Mixed.0001                  \n",
       "1  chr10_100009705_100010205  GM.5.0.Mixed.0001                  \n",
       "2  chr10_100009705_100010205  GM.5.0.Mixed.0001                  \n",
       "3  chr10_100009705_100010205  GM.5.0.Mixed.0001                  \n",
       "4  chr10_100009705_100010205  GM.5.0.Mixed.0001                  \n",
       "\n",
       "  factors_indirect     score  pos  strand  \n",
       "0        SRF, EGR1  8.578792   91      -1  \n",
       "1        SRF, EGR1  8.319869  350      -1  \n",
       "2        SRF, EGR1  7.919846  458      -1  \n",
       "3        SRF, EGR1  7.680395  459      -1  \n",
       "4        SRF, EGR1  7.575280   87      -1  "
      ]
     },
     "execution_count": 14,
     "metadata": {},
     "output_type": "execute_result"
    }
   ],
   "source": [
    "tfi.scanned_df.head()"
   ]
  },
  {
   "cell_type": "code",
   "execution_count": 15,
   "id": "bbb0e4b7-92ef-400f-aaca-13603782038e",
   "metadata": {},
   "outputs": [
    {
     "name": "stdout",
     "output_type": "stream",
     "text": [
      "Filtering finished: 9850440 -> 2108806\n",
      "1. Converting scanned results into one-hot encoded dataframe.\n"
     ]
    },
    {
     "data": {
      "application/vnd.jupyter.widget-view+json": {
       "model_id": "0642a51ff8504865953971dba48263be",
       "version_major": 2,
       "version_minor": 0
      },
      "text/plain": [
       "  0%|          | 0/35174 [00:00<?, ?it/s]"
      ]
     },
     "metadata": {},
     "output_type": "display_data"
    },
    {
     "name": "stdout",
     "output_type": "stream",
     "text": [
      "2. Converting results into dictionaries.\n"
     ]
    },
    {
     "data": {
      "application/vnd.jupyter.widget-view+json": {
       "model_id": "872492ec726a4c799da4545a2eb223d5",
       "version_major": 2,
       "version_minor": 0
      },
      "text/plain": [
       "  0%|          | 0/20169 [00:00<?, ?it/s]"
      ]
     },
     "metadata": {},
     "output_type": "display_data"
    },
    {
     "data": {
      "application/vnd.jupyter.widget-view+json": {
       "model_id": "0400f4de7c7f43f8bde3ff03d01092d3",
       "version_major": 2,
       "version_minor": 0
      },
      "text/plain": [
       "  0%|          | 0/1094 [00:00<?, ?it/s]"
      ]
     },
     "metadata": {},
     "output_type": "display_data"
    }
   ],
   "source": [
    "tfi.reset_filtering()\n",
    "\n",
    "# Do filtering\n",
    "tfi.filter_motifs_by_score(threshold=10)\n",
    "\n",
    "# Format post-filtering results.\n",
    "tfi.make_TFinfo_dataframe_and_dictionary(verbose=True)"
   ]
  },
  {
   "cell_type": "code",
   "execution_count": 16,
   "id": "2d25ac1b-f3d0-4fa2-8472-58f89100c44c",
   "metadata": {},
   "outputs": [
    {
     "data": {
      "text/html": [
       "<div>\n",
       "<style scoped>\n",
       "    .dataframe tbody tr th:only-of-type {\n",
       "        vertical-align: middle;\n",
       "    }\n",
       "\n",
       "    .dataframe tbody tr th {\n",
       "        vertical-align: top;\n",
       "    }\n",
       "\n",
       "    .dataframe thead th {\n",
       "        text-align: right;\n",
       "    }\n",
       "</style>\n",
       "<table border=\"1\" class=\"dataframe\">\n",
       "  <thead>\n",
       "    <tr style=\"text-align: right;\">\n",
       "      <th></th>\n",
       "      <th>peak_id</th>\n",
       "      <th>gene_short_name</th>\n",
       "      <th>9430076C15RIK</th>\n",
       "      <th>AC002126.6</th>\n",
       "      <th>AC012531.1</th>\n",
       "      <th>AC226150.2</th>\n",
       "      <th>AFP</th>\n",
       "      <th>AHR</th>\n",
       "      <th>AHRR</th>\n",
       "      <th>AIRE</th>\n",
       "      <th>...</th>\n",
       "      <th>ZNF784</th>\n",
       "      <th>ZNF8</th>\n",
       "      <th>ZNF816</th>\n",
       "      <th>ZNF85</th>\n",
       "      <th>ZSCAN10</th>\n",
       "      <th>ZSCAN16</th>\n",
       "      <th>ZSCAN22</th>\n",
       "      <th>ZSCAN26</th>\n",
       "      <th>ZSCAN31</th>\n",
       "      <th>ZSCAN4</th>\n",
       "    </tr>\n",
       "  </thead>\n",
       "  <tbody>\n",
       "    <tr>\n",
       "      <th>0</th>\n",
       "      <td>chr10_100009705_100010205</td>\n",
       "      <td>DNMBP</td>\n",
       "      <td>0</td>\n",
       "      <td>0</td>\n",
       "      <td>0</td>\n",
       "      <td>0</td>\n",
       "      <td>0</td>\n",
       "      <td>0</td>\n",
       "      <td>0</td>\n",
       "      <td>0</td>\n",
       "      <td>...</td>\n",
       "      <td>0</td>\n",
       "      <td>0</td>\n",
       "      <td>0</td>\n",
       "      <td>0</td>\n",
       "      <td>0</td>\n",
       "      <td>0</td>\n",
       "      <td>0</td>\n",
       "      <td>0</td>\n",
       "      <td>0</td>\n",
       "      <td>0</td>\n",
       "    </tr>\n",
       "    <tr>\n",
       "      <th>1</th>\n",
       "      <td>chr10_100010297_100010797</td>\n",
       "      <td>DNMBP</td>\n",
       "      <td>0</td>\n",
       "      <td>0</td>\n",
       "      <td>0</td>\n",
       "      <td>0</td>\n",
       "      <td>0</td>\n",
       "      <td>0</td>\n",
       "      <td>0</td>\n",
       "      <td>0</td>\n",
       "      <td>...</td>\n",
       "      <td>0</td>\n",
       "      <td>0</td>\n",
       "      <td>0</td>\n",
       "      <td>0</td>\n",
       "      <td>0</td>\n",
       "      <td>0</td>\n",
       "      <td>0</td>\n",
       "      <td>0</td>\n",
       "      <td>0</td>\n",
       "      <td>0</td>\n",
       "    </tr>\n",
       "    <tr>\n",
       "      <th>2</th>\n",
       "      <td>chr10_100185807_100186307</td>\n",
       "      <td>ERLIN1</td>\n",
       "      <td>0</td>\n",
       "      <td>0</td>\n",
       "      <td>0</td>\n",
       "      <td>0</td>\n",
       "      <td>0</td>\n",
       "      <td>0</td>\n",
       "      <td>0</td>\n",
       "      <td>0</td>\n",
       "      <td>...</td>\n",
       "      <td>0</td>\n",
       "      <td>0</td>\n",
       "      <td>0</td>\n",
       "      <td>0</td>\n",
       "      <td>0</td>\n",
       "      <td>0</td>\n",
       "      <td>0</td>\n",
       "      <td>0</td>\n",
       "      <td>0</td>\n",
       "      <td>0</td>\n",
       "    </tr>\n",
       "    <tr>\n",
       "      <th>3</th>\n",
       "      <td>chr10_100186405_100186905</td>\n",
       "      <td>ERLIN1</td>\n",
       "      <td>0</td>\n",
       "      <td>1</td>\n",
       "      <td>0</td>\n",
       "      <td>0</td>\n",
       "      <td>0</td>\n",
       "      <td>0</td>\n",
       "      <td>0</td>\n",
       "      <td>0</td>\n",
       "      <td>...</td>\n",
       "      <td>0</td>\n",
       "      <td>0</td>\n",
       "      <td>0</td>\n",
       "      <td>0</td>\n",
       "      <td>0</td>\n",
       "      <td>0</td>\n",
       "      <td>0</td>\n",
       "      <td>0</td>\n",
       "      <td>0</td>\n",
       "      <td>0</td>\n",
       "    </tr>\n",
       "    <tr>\n",
       "      <th>4</th>\n",
       "      <td>chr10_100229354_100229854</td>\n",
       "      <td>CHUK</td>\n",
       "      <td>0</td>\n",
       "      <td>0</td>\n",
       "      <td>0</td>\n",
       "      <td>0</td>\n",
       "      <td>0</td>\n",
       "      <td>0</td>\n",
       "      <td>0</td>\n",
       "      <td>0</td>\n",
       "      <td>...</td>\n",
       "      <td>0</td>\n",
       "      <td>0</td>\n",
       "      <td>0</td>\n",
       "      <td>0</td>\n",
       "      <td>0</td>\n",
       "      <td>0</td>\n",
       "      <td>0</td>\n",
       "      <td>0</td>\n",
       "      <td>0</td>\n",
       "      <td>0</td>\n",
       "    </tr>\n",
       "  </tbody>\n",
       "</table>\n",
       "<p>5 rows × 1096 columns</p>\n",
       "</div>"
      ],
      "text/plain": [
       "                     peak_id gene_short_name  9430076C15RIK  AC002126.6  \\\n",
       "0  chr10_100009705_100010205           DNMBP              0           0   \n",
       "1  chr10_100010297_100010797           DNMBP              0           0   \n",
       "2  chr10_100185807_100186307          ERLIN1              0           0   \n",
       "3  chr10_100186405_100186905          ERLIN1              0           1   \n",
       "4  chr10_100229354_100229854            CHUK              0           0   \n",
       "\n",
       "   AC012531.1  AC226150.2  AFP  AHR  AHRR  AIRE  ...  ZNF784  ZNF8  ZNF816  \\\n",
       "0           0           0    0    0     0     0  ...       0     0       0   \n",
       "1           0           0    0    0     0     0  ...       0     0       0   \n",
       "2           0           0    0    0     0     0  ...       0     0       0   \n",
       "3           0           0    0    0     0     0  ...       0     0       0   \n",
       "4           0           0    0    0     0     0  ...       0     0       0   \n",
       "\n",
       "   ZNF85  ZSCAN10  ZSCAN16  ZSCAN22  ZSCAN26  ZSCAN31  ZSCAN4  \n",
       "0      0        0        0        0        0        0       0  \n",
       "1      0        0        0        0        0        0       0  \n",
       "2      0        0        0        0        0        0       0  \n",
       "3      0        0        0        0        0        0       0  \n",
       "4      0        0        0        0        0        0       0  \n",
       "\n",
       "[5 rows x 1096 columns]"
      ]
     },
     "execution_count": 16,
     "metadata": {},
     "output_type": "execute_result"
    }
   ],
   "source": [
    "df = tfi.to_dataframe()\n",
    "df.head()"
   ]
  },
  {
   "cell_type": "code",
   "execution_count": 18,
   "id": "5e676a95-d9cf-456f-aa31-a631d473befb",
   "metadata": {},
   "outputs": [],
   "source": [
    "#df = tfi.to_dataframe()\n",
    "df.to_parquet(\"/mnt/c/Users/UVictor/Documents/scATAC_Output/Greenleaf23_Skin_GRN_dataframe.parquet\")"
   ]
  },
  {
   "cell_type": "code",
   "execution_count": null,
   "id": "a8e864fd-8eb0-451a-8f97-a01f3e5ced30",
   "metadata": {},
   "outputs": [],
   "source": []
  }
 ],
 "metadata": {
  "kernelspec": {
   "display_name": "Python 3 (ipykernel)",
   "language": "python",
   "name": "python3"
  },
  "language_info": {
   "codemirror_mode": {
    "name": "ipython",
    "version": 3
   },
   "file_extension": ".py",
   "mimetype": "text/x-python",
   "name": "python",
   "nbconvert_exporter": "python",
   "pygments_lexer": "ipython3",
   "version": "3.10.14"
  }
 },
 "nbformat": 4,
 "nbformat_minor": 5
}
